{
 "cells": [
  {
   "cell_type": "markdown",
   "id": "1c7698b5-d68b-4628-b7b3-16909cd5f4fd",
   "metadata": {},
   "source": [
    "# Dependency Parsing\n",
    "\n",
    "This directory is for a project to perform dependency parsing based on a given training data."
   ]
  },
  {
   "cell_type": "markdown",
   "id": "0ff9cccc-8824-4dec-85b3-10f5afccdea8",
   "metadata": {},
   "source": [
    "## Approaches\n",
    "\n",
    "I created a model of Shift-Reduce method, adopting Support Vector Machine (SVM) as the classifier. The learning phase to build the classifier consists following steps.\n",
    "\n",
    "1. Transform the train data from token-base to step-base, where we have a matrix each row of which contains last two tokens of the stack, their POS, first token of the buffer, its POS, and the action. The action is our objective and the rest is used as features to predict it.\n",
    "1. Initialize a SVM classifier and make it learn to predict the appropriate action. The features are used here after one hot encoding is performed on them.\n",
    "\n",
    "Then parsing on the test data is done as follows.\n",
    "\n",
    "1. Apply Shift-Reduce method on the test data using the trained classifier. Prediction is done on a configuration, and another configuration is given based on the prediction, where a configuration means a set of features explained above."
   ]
  },
  {
   "cell_type": "markdown",
   "id": "bc7e872e-47e2-4607-a2a2-6e7716e182e4",
   "metadata": {},
   "source": [
    "## Results"
   ]
  },
  {
   "cell_type": "markdown",
   "id": "6294d5af",
   "metadata": {},
   "source": [
    "I calculated accuracies of the predictions which are by SVM classifiers of different kernels, and the results are:\n",
    "\n",
    "|          | Radial Basis Function | Polynomial | \n",
    "| -------- | --------------------- | ---------- | \n",
    "| accuracy | 61.61                 | 71.16      | "
   ]
  },
  {
   "cell_type": "markdown",
   "id": "bb4342c3-1ca0-483c-aa11-0bd7290d072b",
   "metadata": {},
   "source": [
    "---"
   ]
  },
  {
   "cell_type": "markdown",
   "id": "b2305568-f683-41fc-9c9a-fdb95ac6e3d2",
   "metadata": {},
   "source": [
    "## Install Packages\n",
    "\n",
    "Run:\n",
    "\n",
    "```\n",
    "pip install -r requirements.txt\n",
    "```\n",
    "\n",
    "The project is tested by Python 3.9.9."
   ]
  },
  {
   "cell_type": "markdown",
   "id": "77f7cca4-ff44-4f0c-a5a8-674b90d678bb",
   "metadata": {},
   "source": [
    "## Download Data\n",
    "\n",
    "```\n",
    "cd data\n",
    "wget https://raw.githubusercontent.com/neubig/nlptutorial/master/data/mstparser-en-train.dep\n",
    "wget https://raw.githubusercontent.com/neubig/nlptutorial/master/data/mstparser-en-test.dep\n",
    "```"
   ]
  },
  {
   "cell_type": "markdown",
   "id": "96b35eee-d96b-4157-800a-82e20bc29788",
   "metadata": {},
   "source": [
    "## Train"
   ]
  },
  {
   "cell_type": "markdown",
   "id": "717f3b95-7764-470c-8247-2d68423f8ba9",
   "metadata": {},
   "source": [
    "## Predict"
   ]
  },
  {
   "cell_type": "markdown",
   "id": "b91faa40-4f66-4f0f-b189-ca1b2e401296",
   "metadata": {},
   "source": [
    "## Evaluate\n",
    "\n",
    "To calculate the above result, run:\n",
    "```\n",
    "python2 eval/grade-dep.py eval/<prediction file> data/mstparser-en-test.dep\n",
    "```\n",
    "\n",
    "The program `grade-dep.py` was obtained [here](https://github.com/neubig/nlptutorial/tree/master/script)."
   ]
  }
 ],
 "metadata": {
  "kernelspec": {
   "display_name": "Python 3 (ipykernel)",
   "language": "python",
   "name": "python3"
  },
  "language_info": {
   "codemirror_mode": {
    "name": "ipython",
    "version": 3
   },
   "file_extension": ".py",
   "mimetype": "text/x-python",
   "name": "python",
   "nbconvert_exporter": "python",
   "pygments_lexer": "ipython3",
   "version": "3.9.9"
  }
 },
 "nbformat": 4,
 "nbformat_minor": 5
}
