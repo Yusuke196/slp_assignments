{
 "cells": [
  {
   "cell_type": "markdown",
   "id": "bf0eb9ff-c339-43e2-ba29-14ae29cf247b",
   "metadata": {},
   "source": [
    "## Part-of-speech tagging"
   ]
  },
  {
   "cell_type": "markdown",
   "id": "1f0bc71f-3dd7-4345-84df-e04c174af39b",
   "metadata": {},
   "source": [
    "I created a first-order HMM model, which achieved an accuracy of 0.873. In this model, POS tags are approximately predicted by the following equation:\n",
    "\n",
    "$$ \\hat{t}_{1:n} = argmax_{t_i \\cdots t_n} \\prod_{i = 1}^n P(w_i|t_i)P(t_i|t_{i - 1}) $$\n",
    "\n",
    "where $P(w_i|t_i)$ is called emission probability and $P(t_i|t_{i - 1})$ transition probability. In order to calculate the emission probability when $w_i$ is unseen in the training data, I performed the following smoothing.\n",
    "\n",
    "$$ P(w_i|t_i) = \\lambda P(w_i|t_i) + (1 - \\lambda) \\frac{1}{N_{t_i}} $$\n",
    "\n",
    "where $N_{t_i}$ is the unique number of tokens emitted from $t_i$ plus 1 (This 1 represents `<UNK>`). To explore the appropriate value for $\\lambda$, I conducted hyperparameter tuning. As a result, the highest accuracy was obtained when $\\lambda = 0.99999$.\n",
    "\n",
    "For the codes, please refer to pos_tagging/pos_tagging.py."
   ]
  },
  {
   "cell_type": "markdown",
   "id": "257273b1-4a49-4eeb-93c4-8e30206541a4",
   "metadata": {},
   "source": [
    "## Dependency Parsing"
   ]
  },
  {
   "cell_type": "markdown",
   "id": "66d989bf-1239-4940-8f28-567b5db84c7a",
   "metadata": {},
   "source": [
    "used scikit-learn for the coding time constraint"
   ]
  },
  {
   "cell_type": "markdown",
   "id": "e28d72c8-d530-4692-93e1-8305b760115f",
   "metadata": {},
   "source": [
    "## General"
   ]
  },
  {
   "cell_type": "markdown",
   "id": "d1954d2d-f63f-4387-a758-726d3e8fe616",
   "metadata": {},
   "source": [
    "each code is tested by Python 3.9.9 with following packages."
   ]
  }
 ],
 "metadata": {
  "kernelspec": {
   "display_name": "Python 3 (ipykernel)",
   "language": "python",
   "name": "python3"
  },
  "language_info": {
   "codemirror_mode": {
    "name": "ipython",
    "version": 3
   },
   "file_extension": ".py",
   "mimetype": "text/x-python",
   "name": "python",
   "nbconvert_exporter": "python",
   "pygments_lexer": "ipython3",
   "version": "3.9.9"
  }
 },
 "nbformat": 4,
 "nbformat_minor": 5
}
